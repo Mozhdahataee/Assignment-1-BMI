{
 "cells": [
  {
   "cell_type": "markdown",
   "metadata": {},
   "source": [
    "# BMI Projekt 1 - English\n",
    "This notebook is for assistance with the coding for many of the questions in the project.\n",
    "The sections are marked with the corresponding question in the Project description.\n",
    "Remember, this code is provided to get started with the project, but the code is not complete for answering the corresponding questions"
   ]
  },
  {
   "cell_type": "markdown",
   "metadata": {},
   "source": [
    "#### Initialize python packages"
   ]
  },
  {
   "cell_type": "code",
   "execution_count": 353,
   "metadata": {},
   "outputs": [],
   "source": [
    "import numpy as np\n",
    "import pandas as pd\n",
    "import scipy.stats as stats\n",
    "import matplotlib.pyplot as plt\n",
    "import statsmodels.api as sm"
   ]
  },
  {
   "cell_type": "markdown",
   "metadata": {},
   "source": [
    "#### Read data"
   ]
  },
  {
   "cell_type": "code",
   "execution_count": 332,
   "metadata": {},
   "outputs": [
    {
     "name": "stdout",
     "output_type": "stream",
     "text": [
      "     height  weight  gender  urbanity  fastfood\n",
      "0       180      80       1         5      24.0\n",
      "1       185      98       1         1       6.0\n",
      "2       180      80       1         5       6.0\n",
      "3       168      60       0         4      24.0\n",
      "4       173      83       1         5      24.0\n",
      "..      ...     ...     ...       ...       ...\n",
      "140     162      69       0         2       6.0\n",
      "141     174      73       1         5     182.5\n",
      "142     170      70       0         4       6.0\n",
      "143     178      56       0         5       1.0\n",
      "144     163     105       0         3       0.0\n",
      "\n",
      "[145 rows x 5 columns]\n"
     ]
    }
   ],
   "source": [
    "# Path to data file (insert your own path)\n",
    "file_path = '/Users/rashe/OneDrive/Desktop/MedTech/5. semester/02402 Statistics/Projects/bmi/bmi1_data.csv'\n",
    "# Load data\n",
    "D = pd.read_csv(file_path, sep=';')\n",
    "print(D)"
   ]
  },
  {
   "cell_type": "markdown",
   "metadata": {},
   "source": [
    "#### a) Simple summary of data"
   ]
  },
  {
   "cell_type": "code",
   "execution_count": 333,
   "metadata": {},
   "outputs": [
    {
     "name": "stdout",
     "output_type": "stream",
     "text": [
      "Dimensions of data frame (number of rows and columns):  (145, 5)\n",
      "Column/variable names:  Index(['height', 'weight', 'gender', 'urbanity', 'fastfood'], dtype='object')\n",
      "First 5 rows of D:\n"
     ]
    },
    {
     "data": {
      "text/html": [
       "<div>\n",
       "<style scoped>\n",
       "    .dataframe tbody tr th:only-of-type {\n",
       "        vertical-align: middle;\n",
       "    }\n",
       "\n",
       "    .dataframe tbody tr th {\n",
       "        vertical-align: top;\n",
       "    }\n",
       "\n",
       "    .dataframe thead th {\n",
       "        text-align: right;\n",
       "    }\n",
       "</style>\n",
       "<table border=\"1\" class=\"dataframe\">\n",
       "  <thead>\n",
       "    <tr style=\"text-align: right;\">\n",
       "      <th></th>\n",
       "      <th>height</th>\n",
       "      <th>weight</th>\n",
       "      <th>gender</th>\n",
       "      <th>urbanity</th>\n",
       "      <th>fastfood</th>\n",
       "    </tr>\n",
       "  </thead>\n",
       "  <tbody>\n",
       "    <tr>\n",
       "      <th>0</th>\n",
       "      <td>180</td>\n",
       "      <td>80</td>\n",
       "      <td>1</td>\n",
       "      <td>5</td>\n",
       "      <td>24.0</td>\n",
       "    </tr>\n",
       "    <tr>\n",
       "      <th>1</th>\n",
       "      <td>185</td>\n",
       "      <td>98</td>\n",
       "      <td>1</td>\n",
       "      <td>1</td>\n",
       "      <td>6.0</td>\n",
       "    </tr>\n",
       "    <tr>\n",
       "      <th>2</th>\n",
       "      <td>180</td>\n",
       "      <td>80</td>\n",
       "      <td>1</td>\n",
       "      <td>5</td>\n",
       "      <td>6.0</td>\n",
       "    </tr>\n",
       "    <tr>\n",
       "      <th>3</th>\n",
       "      <td>168</td>\n",
       "      <td>60</td>\n",
       "      <td>0</td>\n",
       "      <td>4</td>\n",
       "      <td>24.0</td>\n",
       "    </tr>\n",
       "    <tr>\n",
       "      <th>4</th>\n",
       "      <td>173</td>\n",
       "      <td>83</td>\n",
       "      <td>1</td>\n",
       "      <td>5</td>\n",
       "      <td>24.0</td>\n",
       "    </tr>\n",
       "  </tbody>\n",
       "</table>\n",
       "</div>"
      ],
      "text/plain": [
       "   height  weight  gender  urbanity  fastfood\n",
       "0     180      80       1         5      24.0\n",
       "1     185      98       1         1       6.0\n",
       "2     180      80       1         5       6.0\n",
       "3     168      60       0         4      24.0\n",
       "4     173      83       1         5      24.0"
      ]
     },
     "metadata": {},
     "output_type": "display_data"
    },
    {
     "name": "stdout",
     "output_type": "stream",
     "text": [
      "Last 5 rows of D:\n"
     ]
    },
    {
     "data": {
      "text/html": [
       "<div>\n",
       "<style scoped>\n",
       "    .dataframe tbody tr th:only-of-type {\n",
       "        vertical-align: middle;\n",
       "    }\n",
       "\n",
       "    .dataframe tbody tr th {\n",
       "        vertical-align: top;\n",
       "    }\n",
       "\n",
       "    .dataframe thead th {\n",
       "        text-align: right;\n",
       "    }\n",
       "</style>\n",
       "<table border=\"1\" class=\"dataframe\">\n",
       "  <thead>\n",
       "    <tr style=\"text-align: right;\">\n",
       "      <th></th>\n",
       "      <th>height</th>\n",
       "      <th>weight</th>\n",
       "      <th>gender</th>\n",
       "      <th>urbanity</th>\n",
       "      <th>fastfood</th>\n",
       "    </tr>\n",
       "  </thead>\n",
       "  <tbody>\n",
       "    <tr>\n",
       "      <th>140</th>\n",
       "      <td>162</td>\n",
       "      <td>69</td>\n",
       "      <td>0</td>\n",
       "      <td>2</td>\n",
       "      <td>6.0</td>\n",
       "    </tr>\n",
       "    <tr>\n",
       "      <th>141</th>\n",
       "      <td>174</td>\n",
       "      <td>73</td>\n",
       "      <td>1</td>\n",
       "      <td>5</td>\n",
       "      <td>182.5</td>\n",
       "    </tr>\n",
       "    <tr>\n",
       "      <th>142</th>\n",
       "      <td>170</td>\n",
       "      <td>70</td>\n",
       "      <td>0</td>\n",
       "      <td>4</td>\n",
       "      <td>6.0</td>\n",
       "    </tr>\n",
       "    <tr>\n",
       "      <th>143</th>\n",
       "      <td>178</td>\n",
       "      <td>56</td>\n",
       "      <td>0</td>\n",
       "      <td>5</td>\n",
       "      <td>1.0</td>\n",
       "    </tr>\n",
       "    <tr>\n",
       "      <th>144</th>\n",
       "      <td>163</td>\n",
       "      <td>105</td>\n",
       "      <td>0</td>\n",
       "      <td>3</td>\n",
       "      <td>0.0</td>\n",
       "    </tr>\n",
       "  </tbody>\n",
       "</table>\n",
       "</div>"
      ],
      "text/plain": [
       "     height  weight  gender  urbanity  fastfood\n",
       "140     162      69       0         2       6.0\n",
       "141     174      73       1         5     182.5\n",
       "142     170      70       0         4       6.0\n",
       "143     178      56       0         5       1.0\n",
       "144     163     105       0         3       0.0"
      ]
     },
     "metadata": {},
     "output_type": "display_data"
    },
    {
     "name": "stdout",
     "output_type": "stream",
     "text": [
      "Description of D:\n"
     ]
    },
    {
     "data": {
      "text/html": [
       "<div>\n",
       "<style scoped>\n",
       "    .dataframe tbody tr th:only-of-type {\n",
       "        vertical-align: middle;\n",
       "    }\n",
       "\n",
       "    .dataframe tbody tr th {\n",
       "        vertical-align: top;\n",
       "    }\n",
       "\n",
       "    .dataframe thead th {\n",
       "        text-align: right;\n",
       "    }\n",
       "</style>\n",
       "<table border=\"1\" class=\"dataframe\">\n",
       "  <thead>\n",
       "    <tr style=\"text-align: right;\">\n",
       "      <th></th>\n",
       "      <th>height</th>\n",
       "      <th>weight</th>\n",
       "      <th>gender</th>\n",
       "      <th>urbanity</th>\n",
       "      <th>fastfood</th>\n",
       "    </tr>\n",
       "  </thead>\n",
       "  <tbody>\n",
       "    <tr>\n",
       "      <th>count</th>\n",
       "      <td>145.000000</td>\n",
       "      <td>145.000000</td>\n",
       "      <td>145.000000</td>\n",
       "      <td>145.000000</td>\n",
       "      <td>145.000000</td>\n",
       "    </tr>\n",
       "    <tr>\n",
       "      <th>mean</th>\n",
       "      <td>173.903448</td>\n",
       "      <td>76.737931</td>\n",
       "      <td>0.503448</td>\n",
       "      <td>3.668966</td>\n",
       "      <td>21.037241</td>\n",
       "    </tr>\n",
       "    <tr>\n",
       "      <th>std</th>\n",
       "      <td>9.328365</td>\n",
       "      <td>15.208286</td>\n",
       "      <td>0.501721</td>\n",
       "      <td>1.374647</td>\n",
       "      <td>40.321484</td>\n",
       "    </tr>\n",
       "    <tr>\n",
       "      <th>min</th>\n",
       "      <td>154.000000</td>\n",
       "      <td>50.000000</td>\n",
       "      <td>0.000000</td>\n",
       "      <td>1.000000</td>\n",
       "      <td>0.000000</td>\n",
       "    </tr>\n",
       "    <tr>\n",
       "      <th>25%</th>\n",
       "      <td>166.000000</td>\n",
       "      <td>65.000000</td>\n",
       "      <td>0.000000</td>\n",
       "      <td>3.000000</td>\n",
       "      <td>6.000000</td>\n",
       "    </tr>\n",
       "    <tr>\n",
       "      <th>50%</th>\n",
       "      <td>173.000000</td>\n",
       "      <td>75.000000</td>\n",
       "      <td>1.000000</td>\n",
       "      <td>4.000000</td>\n",
       "      <td>6.000000</td>\n",
       "    </tr>\n",
       "    <tr>\n",
       "      <th>75%</th>\n",
       "      <td>182.000000</td>\n",
       "      <td>87.000000</td>\n",
       "      <td>1.000000</td>\n",
       "      <td>5.000000</td>\n",
       "      <td>24.000000</td>\n",
       "    </tr>\n",
       "    <tr>\n",
       "      <th>max</th>\n",
       "      <td>196.000000</td>\n",
       "      <td>130.000000</td>\n",
       "      <td>1.000000</td>\n",
       "      <td>5.000000</td>\n",
       "      <td>365.000000</td>\n",
       "    </tr>\n",
       "  </tbody>\n",
       "</table>\n",
       "</div>"
      ],
      "text/plain": [
       "           height      weight      gender    urbanity    fastfood\n",
       "count  145.000000  145.000000  145.000000  145.000000  145.000000\n",
       "mean   173.903448   76.737931    0.503448    3.668966   21.037241\n",
       "std      9.328365   15.208286    0.501721    1.374647   40.321484\n",
       "min    154.000000   50.000000    0.000000    1.000000    0.000000\n",
       "25%    166.000000   65.000000    0.000000    3.000000    6.000000\n",
       "50%    173.000000   75.000000    1.000000    4.000000    6.000000\n",
       "75%    182.000000   87.000000    1.000000    5.000000   24.000000\n",
       "max    196.000000  130.000000    1.000000    5.000000  365.000000"
      ]
     },
     "metadata": {},
     "output_type": "display_data"
    },
    {
     "name": "stdout",
     "output_type": "stream",
     "text": [
      "Types of variables:\n",
      " height        int64\n",
      "weight        int64\n",
      "gender        int64\n",
      "urbanity      int64\n",
      "fastfood    float64\n",
      "dtype: object\n"
     ]
    }
   ],
   "source": [
    "print(\"Dimensions of data frame (number of rows and columns): \", D.shape)\n",
    "print(\"Column/variable names: \", D.columns)\n",
    "print(\"First 5 rows of D:\") # (\\n means new line)\n",
    "display(D.head())\n",
    "print(\"Last 5 rows of D:\")\n",
    "display(D.tail())\n",
    "print(\"Description of D:\")\n",
    "display(D.describe())\n",
    "print(\"Types of variables:\\n\", D.dtypes)\n"
   ]
  },
  {
   "cell_type": "markdown",
   "metadata": {},
   "source": [
    "#### Calculate BMI"
   ]
  },
  {
   "cell_type": "code",
   "execution_count": 334,
   "metadata": {},
   "outputs": [
    {
     "name": "stdout",
     "output_type": "stream",
     "text": [
      "     height  weight  gender  urbanity  fastfood        bmi\n",
      "0       180      80       1         5      24.0  24.691358\n",
      "1       185      98       1         1       6.0  28.634039\n",
      "2       180      80       1         5       6.0  24.691358\n",
      "3       168      60       0         4      24.0  21.258503\n",
      "4       173      83       1         5      24.0  27.732300\n",
      "..      ...     ...     ...       ...       ...        ...\n",
      "140     162      69       0         2       6.0  26.291724\n",
      "141     174      73       1         5     182.5  24.111507\n",
      "142     170      70       0         4       6.0  24.221453\n",
      "143     178      56       0         5       1.0  17.674536\n",
      "144     163     105       0         3       0.0  39.519741\n",
      "\n",
      "[145 rows x 6 columns]\n"
     ]
    },
    {
     "data": {
      "text/html": [
       "<div>\n",
       "<style scoped>\n",
       "    .dataframe tbody tr th:only-of-type {\n",
       "        vertical-align: middle;\n",
       "    }\n",
       "\n",
       "    .dataframe tbody tr th {\n",
       "        vertical-align: top;\n",
       "    }\n",
       "\n",
       "    .dataframe thead th {\n",
       "        text-align: right;\n",
       "    }\n",
       "</style>\n",
       "<table border=\"1\" class=\"dataframe\">\n",
       "  <thead>\n",
       "    <tr style=\"text-align: right;\">\n",
       "      <th></th>\n",
       "      <th>height</th>\n",
       "      <th>weight</th>\n",
       "      <th>gender</th>\n",
       "      <th>urbanity</th>\n",
       "      <th>fastfood</th>\n",
       "      <th>bmi</th>\n",
       "    </tr>\n",
       "  </thead>\n",
       "  <tbody>\n",
       "    <tr>\n",
       "      <th>count</th>\n",
       "      <td>145.000000</td>\n",
       "      <td>145.000000</td>\n",
       "      <td>145.000000</td>\n",
       "      <td>145.000000</td>\n",
       "      <td>145.000000</td>\n",
       "      <td>145.000000</td>\n",
       "    </tr>\n",
       "    <tr>\n",
       "      <th>mean</th>\n",
       "      <td>173.903448</td>\n",
       "      <td>76.737931</td>\n",
       "      <td>0.503448</td>\n",
       "      <td>3.668966</td>\n",
       "      <td>21.037241</td>\n",
       "      <td>25.247948</td>\n",
       "    </tr>\n",
       "    <tr>\n",
       "      <th>std</th>\n",
       "      <td>9.328365</td>\n",
       "      <td>15.208286</td>\n",
       "      <td>0.501721</td>\n",
       "      <td>1.374647</td>\n",
       "      <td>40.321484</td>\n",
       "      <td>3.832243</td>\n",
       "    </tr>\n",
       "    <tr>\n",
       "      <th>min</th>\n",
       "      <td>154.000000</td>\n",
       "      <td>50.000000</td>\n",
       "      <td>0.000000</td>\n",
       "      <td>1.000000</td>\n",
       "      <td>0.000000</td>\n",
       "      <td>17.577069</td>\n",
       "    </tr>\n",
       "    <tr>\n",
       "      <th>25%</th>\n",
       "      <td>166.000000</td>\n",
       "      <td>65.000000</td>\n",
       "      <td>0.000000</td>\n",
       "      <td>3.000000</td>\n",
       "      <td>6.000000</td>\n",
       "      <td>22.589551</td>\n",
       "    </tr>\n",
       "    <tr>\n",
       "      <th>50%</th>\n",
       "      <td>173.000000</td>\n",
       "      <td>75.000000</td>\n",
       "      <td>1.000000</td>\n",
       "      <td>4.000000</td>\n",
       "      <td>6.000000</td>\n",
       "      <td>24.691358</td>\n",
       "    </tr>\n",
       "    <tr>\n",
       "      <th>75%</th>\n",
       "      <td>182.000000</td>\n",
       "      <td>87.000000</td>\n",
       "      <td>1.000000</td>\n",
       "      <td>5.000000</td>\n",
       "      <td>24.000000</td>\n",
       "      <td>27.636054</td>\n",
       "    </tr>\n",
       "    <tr>\n",
       "      <th>max</th>\n",
       "      <td>196.000000</td>\n",
       "      <td>130.000000</td>\n",
       "      <td>1.000000</td>\n",
       "      <td>5.000000</td>\n",
       "      <td>365.000000</td>\n",
       "      <td>39.519741</td>\n",
       "    </tr>\n",
       "  </tbody>\n",
       "</table>\n",
       "</div>"
      ],
      "text/plain": [
       "           height      weight      gender    urbanity    fastfood         bmi\n",
       "count  145.000000  145.000000  145.000000  145.000000  145.000000  145.000000\n",
       "mean   173.903448   76.737931    0.503448    3.668966   21.037241   25.247948\n",
       "std      9.328365   15.208286    0.501721    1.374647   40.321484    3.832243\n",
       "min    154.000000   50.000000    0.000000    1.000000    0.000000   17.577069\n",
       "25%    166.000000   65.000000    0.000000    3.000000    6.000000   22.589551\n",
       "50%    173.000000   75.000000    1.000000    4.000000    6.000000   24.691358\n",
       "75%    182.000000   87.000000    1.000000    5.000000   24.000000   27.636054\n",
       "max    196.000000  130.000000    1.000000    5.000000  365.000000   39.519741"
      ]
     },
     "metadata": {},
     "output_type": "display_data"
    }
   ],
   "source": [
    "# Calculate BMI and add to data frame D\n",
    "D['bmi'] = D['weight'] / (D['height']/100)**2\n",
    "print(D)\n",
    "display(D.describe())\n"
   ]
  },
  {
   "cell_type": "markdown",
   "metadata": {},
   "source": [
    "#### b) Histogram (Empirical density)"
   ]
  },
  {
   "cell_type": "code",
   "execution_count": 335,
   "metadata": {},
   "outputs": [
    {
     "data": {
      "image/png": "[encoded data removed]",
      "text/plain": [
       "<Figure size 640x480 with 1 Axes>"
      ]
     },
     "metadata": {},
     "output_type": "display_data"
    }
   ],
   "source": [
    "# Histogram describing the empirical density of BMI\n",
    "# (histogram for BMI normalized so that the area is 1)\n",
    "plt.hist(D['bmi'], bins=15,density=True, color = 'lightgray', edgecolor = 'black')\n",
    "plt.xlabel('BMI')\n",
    "plt.ylabel('Density')\n",
    "plt.title('Density histogram')\n",
    "plt.show()\n"
   ]
  },
  {
   "cell_type": "markdown",
   "metadata": {},
   "source": [
    "#### Data subsets (men and women seperate)"
   ]
  },
  {
   "cell_type": "code",
   "execution_count": 336,
   "metadata": {},
   "outputs": [],
   "source": [
    "# Split data into two sub data sets (men and women)\n",
    "D_female = D[D['gender']==0]\n",
    "D_male = D[D['gender']==1]"
   ]
  },
  {
   "cell_type": "markdown",
   "metadata": {},
   "source": [
    "#### c) Density Histograms for Men and Women seperately"
   ]
  },
  {
   "cell_type": "code",
   "execution_count": 337,
   "metadata": {},
   "outputs": [
    {
     "data": {
      "image/png": "[encoded data removed]",
      "text/plain": [
       "<Figure size 640x480 with 1 Axes>"
      ]
     },
     "metadata": {},
     "output_type": "display_data"
    },
    {
     "data": {
      "image/png": "[encoded data removed]",
      "text/plain": [
       "<Figure size 640x480 with 1 Axes>"
      ]
     },
     "metadata": {},
     "output_type": "display_data"
    }
   ],
   "source": [
    "# Density histograms describing the empirical density of BMI for Women and Men\n",
    "\n",
    "# Density histogram for women\n",
    "plt.hist(D_female['bmi'], bins=15, density=True, color='plum', edgecolor='black')\n",
    "plt.xlabel('BMI (women)')\n",
    "plt.ylabel('Density')\n",
    "plt.title('Density histogram for women')\n",
    "plt.show()\n",
    "\n",
    "# Density histogram for men\n",
    "plt.hist(D_male['bmi'], bins=15, density=True, color='paleturquoise', edgecolor='black')\n",
    "plt.xlabel('BMI (men)')\n",
    "plt.ylabel('Density')\n",
    "plt.title('Density histogram for men')\n",
    "plt.show()\n",
    "\n",
    "# Combined in one plot\n",
    "# plt.hist(D_female['bmi'], bins = 15,density=True, color = 'red', edgecolor = 'black', alpha = 0.5)\n",
    "# plt.hist(D_male['bmi'], bins = 15,density=True, color = 'blue', edgecolor = 'black', alpha = 0.5)\n",
    "# plt.show()\n"
   ]
  },
  {
   "cell_type": "markdown",
   "metadata": {},
   "source": [
    "#### d) Boxplot by genders"
   ]
  },
  {
   "cell_type": "code",
   "execution_count": 338,
   "metadata": {},
   "outputs": [
    {
     "data": {
      "image/png": "[encoded data removed]",
      "text/plain": [
       "<Figure size 640x480 with 1 Axes>"
      ]
     },
     "metadata": {},
     "output_type": "display_data"
    }
   ],
   "source": [
    "# Boxplot of BMI seperated into genders\n",
    "box = plt.boxplot([D_female['bmi'], D_male['bmi']], patch_artist=True)\n",
    "colors = ['plum', 'paleturquoise']\n",
    "\n",
    "for patch, color in zip(box['boxes'], colors):\n",
    "    patch.set_facecolor(color)\n",
    "\n",
    "plt.xticks([1, 2], ['Women', 'Men'])\n",
    "plt.title('Boxplot by genders')\n",
    "plt.ylabel('BMI')\n",
    "plt.xlabel('Gender')\n",
    "\n",
    "plt.show()\n"
   ]
  },
  {
   "cell_type": "markdown",
   "metadata": {},
   "source": [
    "#### e) Key summary statistics for BMI"
   ]
  },
  {
   "cell_type": "code",
   "execution_count": 339,
   "metadata": {},
   "outputs": [
    {
     "name": "stdout",
     "output_type": "stream",
     "text": [
      "Total number of observations:  145\n",
      "Sample mean for BMI:  25.24794773689321\n",
      "Sample variance for BMI:  14.686084905200737\n"
     ]
    }
   ],
   "source": [
    "# Number of observations in total. Do not include any missing observations.\n",
    "print(\"Total number of observations: \", D[D['bmi'].isna()==False].shape[0])\n",
    "\n",
    "# Sample mean (not split)\n",
    "print(\"Sample mean for BMI: \", D['bmi'].mean(skipna=True))\n",
    "\n",
    "# Sample variance (not split)\n",
    "print(\"Sample variance for BMI: \", D['bmi'].var(skipna=True, ddof=1))\n",
    "## Etc.\n",
    "# \"skipna=True\" means that missing values are ignored and the statistic can still be calculated\n",
    "# If there are missing values.\n",
    "# If skipna=False the function will return NaN if there are missing values in the data set.\n"
   ]
  },
  {
   "cell_type": "markdown",
   "metadata": {},
   "source": [
    "#### f) QQ-plot for model validation"
   ]
  },
  {
   "cell_type": "code",
   "execution_count": 340,
   "metadata": {},
   "outputs": [
    {
     "data": {
      "image/png": "[encoded data removed]",
      "text/plain": [
       "<Figure size 640x480 with 1 Axes>"
      ]
     },
     "metadata": {},
     "output_type": "display_data"
    }
   ],
   "source": [
    "# New variable 'logbmi' with log-transformed BMI\n",
    "D['logbmi'] = np.log(D['bmi'])\n",
    "\n",
    "# QQ-plot for log-transformed BMI\n",
    "sm.qqplot(D['logbmi'],line='q')\n",
    "plt.title('QQ_plot')\n",
    "plt.show()\n",
    "\n"
   ]
  },
  {
   "cell_type": "markdown",
   "metadata": {},
   "source": [
    "#### g-h) One-sample t-test"
   ]
  },
  {
   "cell_type": "code",
   "execution_count": 341,
   "metadata": {},
   "outputs": [
    {
     "name": "stdout",
     "output_type": "stream",
     "text": [
      "t-obs:  -0.0999127408580046\n",
      "p-value:  0.9205525650211788\n",
      "ConfidenceInterval(low=3.193202900926161, high=3.242078180778354)\n"
     ]
    }
   ],
   "source": [
    "# T-test for one sample on log-transformed BMI\n",
    "res = stats.ttest_1samp(D['logbmi'], popmean = np.log(25))\n",
    "print(\"t-obs: \", res[0])\n",
    "print(\"p-value: \", res[1])\n",
    "\n",
    "# Confidence interval directly from t-test\n",
    "print(res.confidence_interval())\n"
   ]
  },
  {
   "cell_type": "code",
   "execution_count": 329,
   "metadata": {},
   "outputs": [],
   "source": [
    "# import numpy as np\n",
    "# import scipy.stats as stats\n",
    "\n",
    "# # Assuming 'D' is a DataFrame and 'logbmi' is the column containing log-transformed BMI values\n",
    "# logbmi_data = D['logbmi']\n",
    "\n",
    "# # T-test for one sample on log-transformed BMI\n",
    "# popmean = np.log(25)\n",
    "# res = stats.ttest_1samp(logbmi_data, popmean)\n",
    "# print(\"t-obs: \", res.statistic)\n",
    "# print(\"p-value: \", res.pvalue)\n",
    "\n",
    "# # Sample statistics\n",
    "# n = len(logbmi_data)\n",
    "# mean_logbmi = np.mean(logbmi_data)\n",
    "# std_err = np.std(logbmi_data, ddof=1) / np.sqrt(n)\n",
    "\n",
    "# # Confidence interval for 95% confidence level\n",
    "# confidence_level = 0.95\n",
    "# alpha = 1 - confidence_level\n",
    "# t_critical = stats.t.ppf(1 - alpha/2, df=n-1)  # t-critical value for two-tailed test\n",
    "\n",
    "# # Calculating the confidence interval\n",
    "# margin_of_error = t_critical * std_err\n",
    "# conf_interval = (mean_logbmi - margin_of_error, mean_logbmi + margin_of_error)\n",
    "# print(f\"Confidence interval for log-transformed BMI: {conf_interval}\")\n",
    "\n",
    "# # Converting the confidence interval back to real BMI values\n",
    "# real_bmi_conf_interval = (np.exp(conf_interval[0]), np.exp(conf_interval[1]))\n",
    "# print(f\"Confidence interval for real BMI: {real_bmi_conf_interval}\")\n"
   ]
  },
  {
   "cell_type": "markdown",
   "metadata": {},
   "source": [
    "i) "
   ]
  },
  {
   "cell_type": "code",
   "execution_count": 350,
   "metadata": {},
   "outputs": [
    {
     "data": {
      "image/png": "[encoded data removed]",
      "text/plain": [
       "<Figure size 1000x400 with 2 Axes>"
      ]
     },
     "metadata": {},
     "output_type": "display_data"
    }
   ],
   "source": [
    "D_female = D_female.copy()\n",
    "D_male = D_male.copy()\n",
    "\n",
    "# Log-transformer BMI for både kvinder og mænd\n",
    "D_female['logbmi'] = np.log(D_female['bmi'])\n",
    "D_male['logbmi'] = np.log(D_male['bmi'])\n",
    "\n",
    "# Lav QQ-plots for hver køn\n",
    "fig, axs = plt.subplots(1, 2, figsize=(10, 4))\n",
    "\n",
    "# QQ-plot for kvinder\n",
    "sm.qqplot(D_female['logbmi'], line='q', ax=axs[0])\n",
    "axs[0].set_title(\"QQ-plot for Women\")\n",
    "\n",
    "# QQ-plot for mænd\n",
    "sm.qqplot(D_male['logbmi'], line='q', ax=axs[1])\n",
    "axs[1].set_title(\"QQ-plot for Men\")\n",
    "\n",
    "# Vis plottene\n",
    "plt.tight_layout()\n",
    "plt.show()"
   ]
  },
  {
   "cell_type": "markdown",
   "metadata": {},
   "source": [
    "#### j) Confidence interval (CI) for mean and median"
   ]
  },
  {
   "cell_type": "code",
   "execution_count": 343,
   "metadata": {},
   "outputs": [
    {
     "name": "stdout",
     "output_type": "stream",
     "text": [
      "95% CI for mean of logBMI for women:  (3.1365251201756505, 3.2116686703371817)\n",
      "95% CI for median BMI for women:  [23.02372302 24.82046887]\n"
     ]
    }
   ],
   "source": [
    "# Using sample for women only\n",
    "D_female = D[D['gender']==0]\n",
    "n = D_female.shape[0]\n",
    "std_err = np.std(D_female['logbmi'],ddof=1)/np.sqrt(n)\n",
    "\n",
    "# CI for mean of logBMI for women\n",
    "KI = stats.t.interval(0.95, df=n-1, loc=D_female['logbmi'].mean(),scale=std_err)\n",
    "print(\"95% CI for mean of logBMI for women: \", KI)\n",
    "\n",
    "# Transform back to get CI for median BMI for women\n",
    "print(\"95% CI for median BMI for women: \", np.exp(KI))"
   ]
  },
  {
   "cell_type": "markdown",
   "metadata": {},
   "source": [
    "#### k) Welch t-test"
   ]
  },
  {
   "cell_type": "code",
   "execution_count": 349,
   "metadata": {},
   "outputs": [
    {
     "name": "stdout",
     "output_type": "stream",
     "text": [
      "t-obs:  -3.6374526305970956\n",
      "p-value:  0.00039196478151182137\n"
     ]
    }
   ],
   "source": [
    "# Comparison of logBMI for women and men\n",
    "D_male = D[D['gender'] == 1]\n",
    "res = stats.ttest_ind(D_female['logbmi'],D_male['logbmi'], equal_var=False)\n",
    "print(\"t-obs: \", res[0])\n",
    "print(\"p-value: \", res[1])"
   ]
  },
  {
   "cell_type": "markdown",
   "metadata": {},
   "source": [
    "#### m) Correlation"
   ]
  },
  {
   "cell_type": "code",
   "execution_count": 345,
   "metadata": {},
   "outputs": [
    {
     "name": "stdout",
     "output_type": "stream",
     "text": [
      "            weight  fastfood       bmi\n",
      "weight    1.000000  0.279322  0.828261\n",
      "fastfood  0.279322  1.000000  0.153158\n",
      "bmi       0.828261  0.153158  1.000000\n"
     ]
    }
   ],
   "source": [
    "# Correlation between chosen variables\n",
    "print(D[['weight', 'fastfood', 'bmi']].corr())\n",
    "\n",
    "\n"
   ]
  },
  {
   "cell_type": "code",
   "execution_count": 356,
   "metadata": {},
   "outputs": [
    {
     "name": "stdout",
     "output_type": "stream",
     "text": [
      "Correlation matrix:\n",
      "            weight  fastfood       bmi\n",
      "weight    1.000000  0.279322  0.828261\n",
      "fastfood  0.279322  1.000000  0.153158\n",
      "bmi       0.828261  0.153158  1.000000\n"
     ]
    },
    {
     "data": {
      "image/png": "[encoded data removed]",
      "text/plain": [
       "<Figure size 600x600 with 1 Axes>"
      ]
     },
     "metadata": {},
     "output_type": "display_data"
    },
    {
     "data": {
      "image/png": "[encoded data removed]",
      "text/plain": [
       "<Figure size 600x600 with 1 Axes>"
      ]
     },
     "metadata": {},
     "output_type": "display_data"
    }
   ],
   "source": [
    "# Calculate the correlation matrix\n",
    "print(\"Correlation matrix:\")\n",
    "print(D[['weight', 'fastfood', 'bmi']].corr())\n",
    "\n",
    "BMI = D['bmi']\n",
    "Weight = D['weight']\n",
    "Fastfood = D['fastfood']\n",
    "\n",
    "# 1. QQ-plot for BMI vs. Weight\n",
    "plt.figure(figsize=(6, 6))\n",
    "plt.scatter(BMI, Weight, edgecolor='black')\n",
    "plt.plot(np.unique(BMI), np.poly1d(np.polyfit(BMI, Weight, 1))(np.unique(BMI)), color='green')\n",
    "plt.title(\"BMI vs. weight\")\n",
    "plt.xlabel(\"BMI\")\n",
    "plt.ylabel(\"weight\")\n",
    "plt.grid(True)\n",
    "plt.show()\n",
    "\n",
    "# 2. QQ-plot for BMI vs. Fast food\n",
    "plt.figure(figsize=(6, 6))\n",
    "plt.scatter(BMI, Fastfood, edgecolor='black')\n",
    "plt.plot(np.unique(BMI), np.poly1d(np.polyfit(BMI, Fastfood, 1))(np.unique(BMI)), color='purple')\n",
    "plt.title(\"BMI vs. Fast food\")\n",
    "plt.xlabel(\"BMI\")\n",
    "plt.ylabel(\"Fast food\")\n",
    "plt.grid(True)\n",
    "plt.show()\n"
   ]
  },
  {
   "cell_type": "markdown",
   "metadata": {},
   "source": [
    "## EXTRA"
   ]
  },
  {
   "cell_type": "markdown",
   "metadata": {},
   "source": [
    "#### Subsets in Python"
   ]
  },
  {
   "cell_type": "code",
   "execution_count": 216,
   "metadata": {},
   "outputs": [
    {
     "name": "stdout",
     "output_type": "stream",
     "text": [
      "Logical vector: \n",
      " 0      False\n",
      "1      False\n",
      "2      False\n",
      "3       True\n",
      "4      False\n",
      "       ...  \n",
      "140     True\n",
      "141    False\n",
      "142     True\n",
      "143     True\n",
      "144     True\n",
      "Name: gender, Length: 145, dtype: bool\n",
      "Using logical vector:\n"
     ]
    },
    {
     "data": {
      "text/html": [
       "<div>\n",
       "<style scoped>\n",
       "    .dataframe tbody tr th:only-of-type {\n",
       "        vertical-align: middle;\n",
       "    }\n",
       "\n",
       "    .dataframe tbody tr th {\n",
       "        vertical-align: top;\n",
       "    }\n",
       "\n",
       "    .dataframe thead th {\n",
       "        text-align: right;\n",
       "    }\n",
       "</style>\n",
       "<table border=\"1\" class=\"dataframe\">\n",
       "  <thead>\n",
       "    <tr style=\"text-align: right;\">\n",
       "      <th></th>\n",
       "      <th>height</th>\n",
       "      <th>weight</th>\n",
       "      <th>gender</th>\n",
       "      <th>urbanity</th>\n",
       "      <th>fastfood</th>\n",
       "      <th>bmi</th>\n",
       "      <th>logbmi</th>\n",
       "      <th>femlogbmi</th>\n",
       "      <th>malelogbmi</th>\n",
       "    </tr>\n",
       "  </thead>\n",
       "  <tbody>\n",
       "    <tr>\n",
       "      <th>3</th>\n",
       "      <td>168</td>\n",
       "      <td>60</td>\n",
       "      <td>0</td>\n",
       "      <td>4</td>\n",
       "      <td>24.0</td>\n",
       "      <td>21.258503</td>\n",
       "      <td>3.056757</td>\n",
       "      <td>3.056757</td>\n",
       "      <td>NaN</td>\n",
       "    </tr>\n",
       "    <tr>\n",
       "      <th>5</th>\n",
       "      <td>161</td>\n",
       "      <td>78</td>\n",
       "      <td>0</td>\n",
       "      <td>3</td>\n",
       "      <td>6.0</td>\n",
       "      <td>30.091432</td>\n",
       "      <td>3.404240</td>\n",
       "      <td>3.404240</td>\n",
       "      <td>NaN</td>\n",
       "    </tr>\n",
       "    <tr>\n",
       "      <th>6</th>\n",
       "      <td>168</td>\n",
       "      <td>82</td>\n",
       "      <td>0</td>\n",
       "      <td>2</td>\n",
       "      <td>6.0</td>\n",
       "      <td>29.053288</td>\n",
       "      <td>3.369132</td>\n",
       "      <td>3.369132</td>\n",
       "      <td>NaN</td>\n",
       "    </tr>\n",
       "    <tr>\n",
       "      <th>7</th>\n",
       "      <td>166</td>\n",
       "      <td>58</td>\n",
       "      <td>0</td>\n",
       "      <td>2</td>\n",
       "      <td>24.0</td>\n",
       "      <td>21.048048</td>\n",
       "      <td>3.046808</td>\n",
       "      <td>3.046808</td>\n",
       "      <td>NaN</td>\n",
       "    </tr>\n",
       "    <tr>\n",
       "      <th>9</th>\n",
       "      <td>172</td>\n",
       "      <td>52</td>\n",
       "      <td>0</td>\n",
       "      <td>1</td>\n",
       "      <td>6.0</td>\n",
       "      <td>17.577069</td>\n",
       "      <td>2.866595</td>\n",
       "      <td>2.866595</td>\n",
       "      <td>NaN</td>\n",
       "    </tr>\n",
       "    <tr>\n",
       "      <th>...</th>\n",
       "      <td>...</td>\n",
       "      <td>...</td>\n",
       "      <td>...</td>\n",
       "      <td>...</td>\n",
       "      <td>...</td>\n",
       "      <td>...</td>\n",
       "      <td>...</td>\n",
       "      <td>...</td>\n",
       "      <td>...</td>\n",
       "    </tr>\n",
       "    <tr>\n",
       "      <th>136</th>\n",
       "      <td>167</td>\n",
       "      <td>65</td>\n",
       "      <td>0</td>\n",
       "      <td>5</td>\n",
       "      <td>6.0</td>\n",
       "      <td>23.306680</td>\n",
       "      <td>3.148740</td>\n",
       "      <td>3.148740</td>\n",
       "      <td>NaN</td>\n",
       "    </tr>\n",
       "    <tr>\n",
       "      <th>140</th>\n",
       "      <td>162</td>\n",
       "      <td>69</td>\n",
       "      <td>0</td>\n",
       "      <td>2</td>\n",
       "      <td>6.0</td>\n",
       "      <td>26.291724</td>\n",
       "      <td>3.269254</td>\n",
       "      <td>3.269254</td>\n",
       "      <td>NaN</td>\n",
       "    </tr>\n",
       "    <tr>\n",
       "      <th>142</th>\n",
       "      <td>170</td>\n",
       "      <td>70</td>\n",
       "      <td>0</td>\n",
       "      <td>4</td>\n",
       "      <td>6.0</td>\n",
       "      <td>24.221453</td>\n",
       "      <td>3.187239</td>\n",
       "      <td>3.187239</td>\n",
       "      <td>NaN</td>\n",
       "    </tr>\n",
       "    <tr>\n",
       "      <th>143</th>\n",
       "      <td>178</td>\n",
       "      <td>56</td>\n",
       "      <td>0</td>\n",
       "      <td>5</td>\n",
       "      <td>1.0</td>\n",
       "      <td>17.674536</td>\n",
       "      <td>2.872125</td>\n",
       "      <td>2.872125</td>\n",
       "      <td>NaN</td>\n",
       "    </tr>\n",
       "    <tr>\n",
       "      <th>144</th>\n",
       "      <td>163</td>\n",
       "      <td>105</td>\n",
       "      <td>0</td>\n",
       "      <td>3</td>\n",
       "      <td>0.0</td>\n",
       "      <td>39.519741</td>\n",
       "      <td>3.676800</td>\n",
       "      <td>3.676800</td>\n",
       "      <td>NaN</td>\n",
       "    </tr>\n",
       "  </tbody>\n",
       "</table>\n",
       "<p>72 rows × 9 columns</p>\n",
       "</div>"
      ],
      "text/plain": [
       "     height  weight  gender  urbanity  fastfood        bmi    logbmi  \\\n",
       "3       168      60       0         4      24.0  21.258503  3.056757   \n",
       "5       161      78       0         3       6.0  30.091432  3.404240   \n",
       "6       168      82       0         2       6.0  29.053288  3.369132   \n",
       "7       166      58       0         2      24.0  21.048048  3.046808   \n",
       "9       172      52       0         1       6.0  17.577069  2.866595   \n",
       "..      ...     ...     ...       ...       ...        ...       ...   \n",
       "136     167      65       0         5       6.0  23.306680  3.148740   \n",
       "140     162      69       0         2       6.0  26.291724  3.269254   \n",
       "142     170      70       0         4       6.0  24.221453  3.187239   \n",
       "143     178      56       0         5       1.0  17.674536  2.872125   \n",
       "144     163     105       0         3       0.0  39.519741  3.676800   \n",
       "\n",
       "     femlogbmi  malelogbmi  \n",
       "3     3.056757         NaN  \n",
       "5     3.404240         NaN  \n",
       "6     3.369132         NaN  \n",
       "7     3.046808         NaN  \n",
       "9     2.866595         NaN  \n",
       "..         ...         ...  \n",
       "136   3.148740         NaN  \n",
       "140   3.269254         NaN  \n",
       "142   3.187239         NaN  \n",
       "143   2.872125         NaN  \n",
       "144   3.676800         NaN  \n",
       "\n",
       "[72 rows x 9 columns]"
      ]
     },
     "metadata": {},
     "output_type": "display_data"
    },
    {
     "name": "stdout",
     "output_type": "stream",
     "text": [
      "Using .loc:\n"
     ]
    },
    {
     "data": {
      "text/html": [
       "<div>\n",
       "<style scoped>\n",
       "    .dataframe tbody tr th:only-of-type {\n",
       "        vertical-align: middle;\n",
       "    }\n",
       "\n",
       "    .dataframe tbody tr th {\n",
       "        vertical-align: top;\n",
       "    }\n",
       "\n",
       "    .dataframe thead th {\n",
       "        text-align: right;\n",
       "    }\n",
       "</style>\n",
       "<table border=\"1\" class=\"dataframe\">\n",
       "  <thead>\n",
       "    <tr style=\"text-align: right;\">\n",
       "      <th></th>\n",
       "      <th>height</th>\n",
       "      <th>weight</th>\n",
       "      <th>gender</th>\n",
       "      <th>urbanity</th>\n",
       "      <th>fastfood</th>\n",
       "      <th>bmi</th>\n",
       "      <th>logbmi</th>\n",
       "      <th>femlogbmi</th>\n",
       "      <th>malelogbmi</th>\n",
       "    </tr>\n",
       "  </thead>\n",
       "  <tbody>\n",
       "    <tr>\n",
       "      <th>3</th>\n",
       "      <td>168</td>\n",
       "      <td>60</td>\n",
       "      <td>0</td>\n",
       "      <td>4</td>\n",
       "      <td>24.0</td>\n",
       "      <td>21.258503</td>\n",
       "      <td>3.056757</td>\n",
       "      <td>3.056757</td>\n",
       "      <td>NaN</td>\n",
       "    </tr>\n",
       "    <tr>\n",
       "      <th>5</th>\n",
       "      <td>161</td>\n",
       "      <td>78</td>\n",
       "      <td>0</td>\n",
       "      <td>3</td>\n",
       "      <td>6.0</td>\n",
       "      <td>30.091432</td>\n",
       "      <td>3.404240</td>\n",
       "      <td>3.404240</td>\n",
       "      <td>NaN</td>\n",
       "    </tr>\n",
       "    <tr>\n",
       "      <th>6</th>\n",
       "      <td>168</td>\n",
       "      <td>82</td>\n",
       "      <td>0</td>\n",
       "      <td>2</td>\n",
       "      <td>6.0</td>\n",
       "      <td>29.053288</td>\n",
       "      <td>3.369132</td>\n",
       "      <td>3.369132</td>\n",
       "      <td>NaN</td>\n",
       "    </tr>\n",
       "    <tr>\n",
       "      <th>7</th>\n",
       "      <td>166</td>\n",
       "      <td>58</td>\n",
       "      <td>0</td>\n",
       "      <td>2</td>\n",
       "      <td>24.0</td>\n",
       "      <td>21.048048</td>\n",
       "      <td>3.046808</td>\n",
       "      <td>3.046808</td>\n",
       "      <td>NaN</td>\n",
       "    </tr>\n",
       "    <tr>\n",
       "      <th>9</th>\n",
       "      <td>172</td>\n",
       "      <td>52</td>\n",
       "      <td>0</td>\n",
       "      <td>1</td>\n",
       "      <td>6.0</td>\n",
       "      <td>17.577069</td>\n",
       "      <td>2.866595</td>\n",
       "      <td>2.866595</td>\n",
       "      <td>NaN</td>\n",
       "    </tr>\n",
       "    <tr>\n",
       "      <th>...</th>\n",
       "      <td>...</td>\n",
       "      <td>...</td>\n",
       "      <td>...</td>\n",
       "      <td>...</td>\n",
       "      <td>...</td>\n",
       "      <td>...</td>\n",
       "      <td>...</td>\n",
       "      <td>...</td>\n",
       "      <td>...</td>\n",
       "    </tr>\n",
       "    <tr>\n",
       "      <th>136</th>\n",
       "      <td>167</td>\n",
       "      <td>65</td>\n",
       "      <td>0</td>\n",
       "      <td>5</td>\n",
       "      <td>6.0</td>\n",
       "      <td>23.306680</td>\n",
       "      <td>3.148740</td>\n",
       "      <td>3.148740</td>\n",
       "      <td>NaN</td>\n",
       "    </tr>\n",
       "    <tr>\n",
       "      <th>140</th>\n",
       "      <td>162</td>\n",
       "      <td>69</td>\n",
       "      <td>0</td>\n",
       "      <td>2</td>\n",
       "      <td>6.0</td>\n",
       "      <td>26.291724</td>\n",
       "      <td>3.269254</td>\n",
       "      <td>3.269254</td>\n",
       "      <td>NaN</td>\n",
       "    </tr>\n",
       "    <tr>\n",
       "      <th>142</th>\n",
       "      <td>170</td>\n",
       "      <td>70</td>\n",
       "      <td>0</td>\n",
       "      <td>4</td>\n",
       "      <td>6.0</td>\n",
       "      <td>24.221453</td>\n",
       "      <td>3.187239</td>\n",
       "      <td>3.187239</td>\n",
       "      <td>NaN</td>\n",
       "    </tr>\n",
       "    <tr>\n",
       "      <th>143</th>\n",
       "      <td>178</td>\n",
       "      <td>56</td>\n",
       "      <td>0</td>\n",
       "      <td>5</td>\n",
       "      <td>1.0</td>\n",
       "      <td>17.674536</td>\n",
       "      <td>2.872125</td>\n",
       "      <td>2.872125</td>\n",
       "      <td>NaN</td>\n",
       "    </tr>\n",
       "    <tr>\n",
       "      <th>144</th>\n",
       "      <td>163</td>\n",
       "      <td>105</td>\n",
       "      <td>0</td>\n",
       "      <td>3</td>\n",
       "      <td>0.0</td>\n",
       "      <td>39.519741</td>\n",
       "      <td>3.676800</td>\n",
       "      <td>3.676800</td>\n",
       "      <td>NaN</td>\n",
       "    </tr>\n",
       "  </tbody>\n",
       "</table>\n",
       "<p>72 rows × 9 columns</p>\n",
       "</div>"
      ],
      "text/plain": [
       "     height  weight  gender  urbanity  fastfood        bmi    logbmi  \\\n",
       "3       168      60       0         4      24.0  21.258503  3.056757   \n",
       "5       161      78       0         3       6.0  30.091432  3.404240   \n",
       "6       168      82       0         2       6.0  29.053288  3.369132   \n",
       "7       166      58       0         2      24.0  21.048048  3.046808   \n",
       "9       172      52       0         1       6.0  17.577069  2.866595   \n",
       "..      ...     ...     ...       ...       ...        ...       ...   \n",
       "136     167      65       0         5       6.0  23.306680  3.148740   \n",
       "140     162      69       0         2       6.0  26.291724  3.269254   \n",
       "142     170      70       0         4       6.0  24.221453  3.187239   \n",
       "143     178      56       0         5       1.0  17.674536  2.872125   \n",
       "144     163     105       0         3       0.0  39.519741  3.676800   \n",
       "\n",
       "     femlogbmi  malelogbmi  \n",
       "3     3.056757         NaN  \n",
       "5     3.404240         NaN  \n",
       "6     3.369132         NaN  \n",
       "7     3.046808         NaN  \n",
       "9     2.866595         NaN  \n",
       "..         ...         ...  \n",
       "136   3.148740         NaN  \n",
       "140   3.269254         NaN  \n",
       "142   3.187239         NaN  \n",
       "143   2.872125         NaN  \n",
       "144   3.676800         NaN  \n",
       "\n",
       "[72 rows x 9 columns]"
      ]
     },
     "metadata": {},
     "output_type": "display_data"
    },
    {
     "name": "stdout",
     "output_type": "stream",
     "text": [
      "Women under 55 kg:\n"
     ]
    },
    {
     "data": {
      "text/html": [
       "<div>\n",
       "<style scoped>\n",
       "    .dataframe tbody tr th:only-of-type {\n",
       "        vertical-align: middle;\n",
       "    }\n",
       "\n",
       "    .dataframe tbody tr th {\n",
       "        vertical-align: top;\n",
       "    }\n",
       "\n",
       "    .dataframe thead th {\n",
       "        text-align: right;\n",
       "    }\n",
       "</style>\n",
       "<table border=\"1\" class=\"dataframe\">\n",
       "  <thead>\n",
       "    <tr style=\"text-align: right;\">\n",
       "      <th></th>\n",
       "      <th>height</th>\n",
       "      <th>weight</th>\n",
       "      <th>gender</th>\n",
       "      <th>urbanity</th>\n",
       "      <th>fastfood</th>\n",
       "      <th>bmi</th>\n",
       "      <th>logbmi</th>\n",
       "      <th>femlogbmi</th>\n",
       "      <th>malelogbmi</th>\n",
       "    </tr>\n",
       "  </thead>\n",
       "  <tbody>\n",
       "    <tr>\n",
       "      <th>9</th>\n",
       "      <td>172</td>\n",
       "      <td>52</td>\n",
       "      <td>0</td>\n",
       "      <td>1</td>\n",
       "      <td>6.0</td>\n",
       "      <td>17.577069</td>\n",
       "      <td>2.866595</td>\n",
       "      <td>2.866595</td>\n",
       "      <td>NaN</td>\n",
       "    </tr>\n",
       "    <tr>\n",
       "      <th>24</th>\n",
       "      <td>157</td>\n",
       "      <td>50</td>\n",
       "      <td>0</td>\n",
       "      <td>2</td>\n",
       "      <td>0.0</td>\n",
       "      <td>20.284799</td>\n",
       "      <td>3.009872</td>\n",
       "      <td>3.009872</td>\n",
       "      <td>NaN</td>\n",
       "    </tr>\n",
       "    <tr>\n",
       "      <th>45</th>\n",
       "      <td>161</td>\n",
       "      <td>53</td>\n",
       "      <td>0</td>\n",
       "      <td>3</td>\n",
       "      <td>6.0</td>\n",
       "      <td>20.446742</td>\n",
       "      <td>3.017824</td>\n",
       "      <td>3.017824</td>\n",
       "      <td>NaN</td>\n",
       "    </tr>\n",
       "    <tr>\n",
       "      <th>66</th>\n",
       "      <td>172</td>\n",
       "      <td>54</td>\n",
       "      <td>0</td>\n",
       "      <td>3</td>\n",
       "      <td>6.0</td>\n",
       "      <td>18.253110</td>\n",
       "      <td>2.904335</td>\n",
       "      <td>2.904335</td>\n",
       "      <td>NaN</td>\n",
       "    </tr>\n",
       "  </tbody>\n",
       "</table>\n",
       "</div>"
      ],
      "text/plain": [
       "    height  weight  gender  urbanity  fastfood        bmi    logbmi  \\\n",
       "9      172      52       0         1       6.0  17.577069  2.866595   \n",
       "24     157      50       0         2       0.0  20.284799  3.009872   \n",
       "45     161      53       0         3       6.0  20.446742  3.017824   \n",
       "66     172      54       0         3       6.0  18.253110  2.904335   \n",
       "\n",
       "    femlogbmi  malelogbmi  \n",
       "9    2.866595         NaN  \n",
       "24   3.009872         NaN  \n",
       "45   3.017824         NaN  \n",
       "66   2.904335         NaN  "
      ]
     },
     "metadata": {},
     "output_type": "display_data"
    }
   ],
   "source": [
    "## Extra information about picking out subsets in Python\n",
    "#\n",
    "# Logical vector with TRUE or FALSE for every value in a column in D,\n",
    "# for example: Find all women in the dataframe\n",
    "women = D['gender'] == 0\n",
    "print(\"Logical vector: \\n\", women)\n",
    "# This logical vector can then be used to pick out all women (values where women = TRUE)\n",
    "print(\"Using logical vector:\")\n",
    "display(D[women])\n",
    "# Alternatively you can use the pandas function .loc\n",
    "print(\"Using .loc:\")\n",
    "display(D.loc[D['gender'] == 0, :]) # \":\" means all columns\n",
    "# More complex logical expressions kan be used, for example:\n",
    "# Find all women under 55 kg:\n",
    "print(\"Women under 55 kg:\")\n",
    "women_under_55kg = (D['gender'] == 0) & (D['weight'] < 55)\n",
    "display(D[women_under_55kg])\n",
    "\n",
    "## DISPLAY function gives a nicer table than print. This is especially useful when we \n",
    "# are working with dataframes (pandas)"
   ]
  },
  {
   "cell_type": "markdown",
   "metadata": {},
   "source": [
    "#### Additional Python tips"
   ]
  },
  {
   "cell_type": "code",
   "execution_count": 217,
   "metadata": {},
   "outputs": [
    {
     "data": {
      "text/html": [
       "<div>\n",
       "<style scoped>\n",
       "    .dataframe tbody tr th:only-of-type {\n",
       "        vertical-align: middle;\n",
       "    }\n",
       "\n",
       "    .dataframe tbody tr th {\n",
       "        vertical-align: top;\n",
       "    }\n",
       "\n",
       "    .dataframe thead th {\n",
       "        text-align: right;\n",
       "    }\n",
       "</style>\n",
       "<table border=\"1\" class=\"dataframe\">\n",
       "  <thead>\n",
       "    <tr style=\"text-align: right;\">\n",
       "      <th></th>\n",
       "      <th>mean</th>\n",
       "      <th>var</th>\n",
       "    </tr>\n",
       "  </thead>\n",
       "  <tbody>\n",
       "    <tr>\n",
       "      <th>Women</th>\n",
       "      <td>24.216402</td>\n",
       "      <td>16.417873</td>\n",
       "    </tr>\n",
       "    <tr>\n",
       "      <th>Men</th>\n",
       "      <td>26.265363</td>\n",
       "      <td>11.068725</td>\n",
       "    </tr>\n",
       "  </tbody>\n",
       "</table>\n",
       "</div>"
      ],
      "text/plain": [
       "            mean        var\n",
       "Women  24.216402  16.417873\n",
       "Men    26.265363  11.068725"
      ]
     },
     "metadata": {},
     "output_type": "display_data"
    }
   ],
   "source": [
    "## Make a for-loop for calculating some summary statistics\n",
    "## and save in a new dataframe\n",
    "Tbl = pd.DataFrame()\n",
    "for i in [0,1]:\n",
    "    Tbl.loc[i, \"mean\"] = D[D['gender'] == i]['bmi'].mean()\n",
    "    Tbl.loc[i, \"var\"] = D[D['gender'] == i]['bmi'].var()\n",
    "\n",
    "Tbl.index = ['Women', 'Men'] # Nameing rows\n",
    "\n",
    "# show Tbl (dataframe)\n",
    "display(Tbl)\n"
   ]
  },
  {
   "cell_type": "code",
   "execution_count": 218,
   "metadata": {},
   "outputs": [
    {
     "data": {
      "text/html": [
       "<div>\n",
       "<style scoped>\n",
       "    .dataframe tbody tr th:only-of-type {\n",
       "        vertical-align: middle;\n",
       "    }\n",
       "\n",
       "    .dataframe tbody tr th {\n",
       "        vertical-align: top;\n",
       "    }\n",
       "\n",
       "    .dataframe thead th {\n",
       "        text-align: right;\n",
       "    }\n",
       "</style>\n",
       "<table border=\"1\" class=\"dataframe\">\n",
       "  <thead>\n",
       "    <tr style=\"text-align: right;\">\n",
       "      <th></th>\n",
       "      <th>mean</th>\n",
       "      <th>var</th>\n",
       "    </tr>\n",
       "    <tr>\n",
       "      <th>gender</th>\n",
       "      <th></th>\n",
       "      <th></th>\n",
       "    </tr>\n",
       "  </thead>\n",
       "  <tbody>\n",
       "    <tr>\n",
       "      <th>0</th>\n",
       "      <td>24.216402</td>\n",
       "      <td>16.417873</td>\n",
       "    </tr>\n",
       "    <tr>\n",
       "      <th>1</th>\n",
       "      <td>26.265363</td>\n",
       "      <td>11.068725</td>\n",
       "    </tr>\n",
       "  </tbody>\n",
       "</table>\n",
       "</div>"
      ],
      "text/plain": [
       "             mean        var\n",
       "gender                      \n",
       "0       24.216402  16.417873\n",
       "1       26.265363  11.068725"
      ]
     },
     "metadata": {},
     "output_type": "display_data"
    }
   ],
   "source": [
    "# There are many ways to reach the same restults, and some have more compact commands/functions:\n",
    "# For example:\n",
    "result = D.groupby('gender')['bmi'].agg(['mean', 'var'])\n",
    "# Here the groupby function is used to group the data by gender, and then the agg (aggregate) function\n",
    "# for calculating mean and variance for BMI for each group.\n",
    "display(result)\n",
    "\n",
    "# See more functions in pandas documentation: https://pandas.pydata.org/pandas-docs/stable/reference/api/pandas.DataFrame.html\n",
    "# Numpy documentation: https://numpy.org/doc/stable/reference/index.html\n",
    "# Or find documentation/guides for other python packages/functions online.\n"
   ]
  },
  {
   "cell_type": "markdown",
   "metadata": {},
   "source": [
    "#### Latex Tips\n",
    "Pandas (pd) also includes a function that is very handy for writing tables/dataframes directly into Latex-code. \n",
    "This is done by usind the function `pd.to_latex()`.\n",
    "The following is the simplest form of the function:"
   ]
  },
  {
   "cell_type": "code",
   "execution_count": 219,
   "metadata": {},
   "outputs": [
    {
     "name": "stdout",
     "output_type": "stream",
     "text": [
      "\\begin{tabular}{lrr}\n",
      "\\toprule\n",
      " & mean & var \\\\\n",
      "\\midrule\n",
      "Women & 24.216402 & 16.417873 \\\\\n",
      "Men & 26.265363 & 11.068725 \\\\\n",
      "\\bottomrule\n",
      "\\end{tabular}\n",
      "\n"
     ]
    }
   ],
   "source": [
    "Tbl_latex = Tbl.to_latex()\n",
    "print(Tbl_latex)"
   ]
  },
  {
   "cell_type": "code",
   "execution_count": 355,
   "metadata": {},
   "outputs": [
    {
     "name": "stdout",
     "output_type": "stream",
     "text": [
      "\\begin{tabular}{lrrr}\n",
      "\\toprule\n",
      " & weight & fastfood & bmi \\\\\n",
      "\\midrule\n",
      "weight & 1.000000 & 0.279322 & 0.828261 \\\\\n",
      "fastfood & 0.279322 & 1.000000 & 0.153158 \\\\\n",
      "bmi & 0.828261 & 0.153158 & 1.000000 \\\\\n",
      "\\bottomrule\n",
      "\\end{tabular}\n",
      "\n"
     ]
    }
   ],
   "source": [
    "\n",
    "Correlation = D[['weight', 'fastfood', 'bmi']].corr()\n",
    "Correlation = Correlation.to_latex()\n",
    "print(Correlation)\n"
   ]
  }
 ],
 "metadata": {
  "kernelspec": {
   "display_name": "base",
   "language": "python",
   "name": "python3"
  },
  "language_info": {
   "codemirror_mode": {
    "name": "ipython",
    "version": 3
   },
   "file_extension": ".py",
   "mimetype": "text/x-python",
   "name": "python",
   "nbconvert_exporter": "python",
   "pygments_lexer": "ipython3",
   "version": "3.11.5"
  }
 },
 "nbformat": 4,
 "nbformat_minor": 2
}
